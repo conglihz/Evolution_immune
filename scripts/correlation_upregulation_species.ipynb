{
 "cells": [
  {
   "cell_type": "code",
   "execution_count": 1,
   "id": "a01812ec",
   "metadata": {},
   "outputs": [],
   "source": [
    "import pandas as pd"
   ]
  },
  {
   "cell_type": "code",
   "execution_count": null,
   "id": "febb6f3d",
   "metadata": {},
   "outputs": [],
   "source": [
    "divergence_data = {\n",
    "    \"Species\": [\"dsim\", \"dana\", \"dvir\", \"sleb\"],\n",
    "    \"Distance_to_dmel\": [3.95, 31, 43, 69],\n",
    "    \"Shared_fraction_ef\": [0.85, 0.60, 0.40, 0.30]\n",
    "    \"Shared_fraction_pr\": [0.80, 0.55, 0.35, 0.25],\n",
    "}\n",
    "\n",
    "df = pd.DataFrame(divergence_data)\n"
   ]
  }
 ],
 "metadata": {
  "kernelspec": {
   "display_name": "research_py39",
   "language": "python",
   "name": "python3"
  },
  "language_info": {
   "codemirror_mode": {
    "name": "ipython",
    "version": 3
   },
   "file_extension": ".py",
   "mimetype": "text/x-python",
   "name": "python",
   "nbconvert_exporter": "python",
   "pygments_lexer": "ipython3",
   "version": "3.9.21"
  }
 },
 "nbformat": 4,
 "nbformat_minor": 5
}
