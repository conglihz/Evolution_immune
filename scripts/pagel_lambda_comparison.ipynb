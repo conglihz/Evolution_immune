{
 "cells": [
  {
   "cell_type": "code",
   "execution_count": 1,
   "id": "85a84187",
   "metadata": {},
   "outputs": [],
   "source": [
    "import pandas as pd\n",
    "import numpy as np\n",
    "import matplotlib.pyplot as plt\n",
    "import seaborn as sns"
   ]
  },
  {
   "cell_type": "code",
   "execution_count": null,
   "id": "bc51e585",
   "metadata": {},
   "outputs": [],
   "source": [
    "npg_palette2 = [\"#8491B4FF\", \"#91D1C2FF\", \"#DC0000FF\", \"#7E6148FF\", \"#B09C85FF\"]\n",
    "#sns.set_palette(npg_palette2)\n",
    "\n",
    "import matplotlib as mpl\n",
    "new_rc_params = {'text.usetex': False,\n",
    "\"svg.fonttype\": 'none'\n",
    "}\n",
    "mpl.rcParams.update(new_rc_params)\n",
    "\n",
    "npg_palette = [\"#E64B35FF\", \"#4DBBD5FF\", \"#00A087FF\", \"#3C5488FF\", \"#F39B7FFF\"]\n",
    "#sns.set_palette(npg_palette)\n",
    "\n",
    "sns.set_style('white', {'axes.linewidth': 0.85})\n",
    "plt.rcParams['xtick.bottom'] = True\n",
    "plt.rcParams['ytick.left'] = True"
   ]
  },
  {
   "cell_type": "code",
   "execution_count": 2,
   "id": "6a598884",
   "metadata": {},
   "outputs": [],
   "source": [
    "species_list = ['dmel', 'dsim', 'dana',  'dvir', 'sleb']"
   ]
  },
  {
   "cell_type": "code",
   "execution_count": null,
   "id": "46257ec7",
   "metadata": {},
   "outputs": [],
   "source": [
    "# load data\n",
    "df = pd.read_csv('combined_res_singlecopy_ef.txt', sep = '\\t')\n",
    "df = df.dropna(subset=['log2FoldChange'])"
   ]
  },
  {
   "cell_type": "code",
   "execution_count": null,
   "id": "e4f4ba5a",
   "metadata": {},
   "outputs": [],
   "source": [
    "# load precalculated Pagel's lambda\n",
    "df_lambda = pd.read_csv(\"pagels_lambda/pagel_lambda_by_gene_ef.csv\")"
   ]
  },
  {
   "cell_type": "code",
   "execution_count": 6,
   "id": "58fbbecc",
   "metadata": {},
   "outputs": [],
   "source": [
    "ef_allspecies = pd.read_csv('gene_shared_all_1_ef_0709.csv')\n",
    "\n",
    "cat_cols = [f\"{sp}_cat\" for sp in species_list]\n",
    "expr_cols = [f\"{sp}\" for sp in species_list]\n",
    "fold_cols = [f\"{sp}_fold\" for sp in species_list]\n",
    "\n",
    "ef_allspecies['group'] = ef_allspecies[cat_cols].eq('Upregulated').any(axis=1).map({True: 'up', False: 'other'})\n",
    "ef_allspecies['low_expression'] = ef_allspecies[expr_cols].lt(1).all(axis=1).map({True: 'low', False: 'other'})\n",
    "\n",
    "df_merged = df_lambda.merge(ef_allspecies, left_on='gene', right_on='dmel_gene', how='left')\n",
    "\n",
    "df_merged = df_merged[df_merged['low_expression'] == 'other']"
   ]
  },
  {
   "cell_type": "code",
   "execution_count": null,
   "id": "fa051da4",
   "metadata": {},
   "outputs": [],
   "source": [
    "df_ef = pd.read_csv('combined_res_singlecopy_ef.txt', sep = '\\t')\n",
    "df_ef_dmel = df_ef[df_ef['species'] == 'dmel']\n",
    "df_ef_dmel.drop_duplicates(subset=['gene'], inplace=True)\n",
    "\n",
    "# separate upregulated and others, save the label in gene_group column\n",
    "df_ef_dmel['gene_group'] = np.where(df_ef_dmel['gene_category'] == 'Upregulated', 'up', 'others')"
   ]
  },
  {
   "cell_type": "code",
   "execution_count": null,
   "id": "3ea5456b",
   "metadata": {},
   "outputs": [],
   "source": [
    "ef_allspecies_high_expr = ef_allspecies[ef_allspecies['low_expression'] == 'other']\n",
    "df_ef_dmel_high = df_ef_dmel[df_ef_dmel['gene'].isin(ef_allspecies_high_expr['dmel_gene'])]"
   ]
  },
  {
   "cell_type": "code",
   "execution_count": null,
   "id": "0013bd11",
   "metadata": {},
   "outputs": [],
   "source": [
    "import os\n",
    "import random\n",
    "def simulated_annealing(df):\n",
    "    ## Simulated Annealing Parameters ##\n",
    "    #nsteps = 100\n",
    "    max_iter = 500\n",
    "    \n",
    "    K = 0.95 # after each iteration, temperature cools down\n",
    "    T0 = 100. # initial temprature\n",
    "    bins = np.arange(0,16.5,.5)\n",
    "    l1norm_min_list = []\n",
    "    l1norm_max_list = []\n",
    "\n",
    "    up_gene_df = df[(df['gene_group'] == 'up')]\n",
    "    other_gene_df = df[(df['gene_group'] == 'others')]\n",
    "    print(f\"up:{up_gene_df.shape[0]}\\nothers:{other_gene_df.shape[0]}\")\n",
    "    \n",
    "    num = len(up_gene_df)\n",
    "    #print(num)\n",
    "\n",
    "    #nsteps = min(30, max(10, num)) \n",
    "    nsteps = 30\n",
    "\n",
    "    up_gene_list = up_gene_df['gene'].tolist()\n",
    "    other_gene_list = other_gene_df['gene'].tolist()\n",
    "    \n",
    "    output_dir = f\"genes_with_similar_expression\"\n",
    "    os.makedirs(output_dir, exist_ok=True)  \n",
    "\n",
    "    for n in range(nsteps):\n",
    "        list_dng = random.choices(up_gene_list,k=num)\n",
    "        list_rng = random.choices(other_gene_list,k=num)\n",
    "        list_rng0 = [g for g in list_rng]\n",
    "        #dng_arr = [fbgn2exp[fbid] for fbid in list_dng]\n",
    "        #rng_arr = [fbgn2exp[fbid] for fbid in list_rng]\n",
    "        dng_arr = [up_gene_df[up_gene_df['gene'] == fbid]['baseMean'].values[0] for fbid in list_dng]\n",
    "        rng_arr = [other_gene_df[other_gene_df['gene'] == fbid]['baseMean'].values[0] for fbid in list_rng]\n",
    "        dng_hist,edges = np.histogram(dng_arr, bins=bins, range=None, density=True, weights=None)\n",
    "        rng_hist,edges = np.histogram(rng_arr, bins=bins, range=None, density=True, weights=None)\n",
    "        l1norm0 = sum(abs(rng_hist-dng_hist))\n",
    "        l1norm_min = 1e9\n",
    "        min_iter = 0\n",
    "        list_min = []\n",
    "        rng_hist_min = []\n",
    "    \n",
    "        if n==0:\n",
    "            hist2plot_dng  = [d for d in dng_hist] # random permutated up genes\n",
    "            hist2plot_rng0 = [d for d in rng_hist] # not expression matched other genes\n",
    "        \n",
    "        print(f\"step {n}\",\"iter 0\",l1norm0)\n",
    "        existed = {g:1 for g in list_rng}\n",
    "        l1norm_max_list.append(l1norm0)\n",
    "    \n",
    "        # Actual Simulated Annealing #\n",
    "        T = T0\n",
    "        for it in range(max_iter):\n",
    "            # decide which one to mutate #\n",
    "            to_mut = random.randint(0,num-1)\n",
    "            old_gene = list_rng[to_mut]\n",
    "            gene_pool = [g for g in other_gene_df['gene']]# if g not in existed]\n",
    "            #print(it, len(gene_pool))\n",
    "            mut_gene = random.choice(gene_pool)\n",
    "            \n",
    "            ## mutate ##\n",
    "            list_rng[to_mut] = mut_gene\n",
    "            #existed[mut_gene] = 1\n",
    "            #rng_arr = [fbgn2exp[fbid] for fbid in list_rng]\n",
    "            #print(list_rng)\n",
    "            \n",
    "            rng_arr = [other_gene_df[other_gene_df['gene'] == fbid]['baseMean'].values[0] for fbid in list_rng]\n",
    "            rng_hist,edges = np.histogram(rng_arr, bins=bins, range=None, density=True, weights=None)\n",
    "            l1norm1 = sum(abs(rng_hist-dng_hist))\n",
    "            \n",
    "            ## accept if l1norm decrease ##\n",
    "            paccpt = 1.0 if l1norm1<l1norm0 else np.exp(-(l1norm1-l1norm0)/T)\n",
    "            p = random.uniform(0,1)\n",
    "            if p < paccpt:\n",
    "                l1norm0 = l1norm1\n",
    "                if l1norm0 < l1norm_min:\n",
    "                    l1norm_min = l1norm0\n",
    "                    list_min = [g for g in list_rng]\n",
    "                    rng_hist_min = [d for d in rng_hist]\n",
    "                    min_iter = it\n",
    "            else:\n",
    "                ## reject change\n",
    "                list_rng[to_mut] = old_gene\n",
    "    \n",
    "            T = T*K\n",
    "    \n",
    "        if n==0:\n",
    "            hist2plot_rng1 = [d for d in rng_hist_min]\n",
    "    \n",
    "        print(f\"step {n}\",f\"iter {min_iter}\",l1norm_min)\n",
    "        l1norm_min_list.append(l1norm_min)\n",
    "    \n",
    "        np.savetxt(f\"genes_with_similar_expression/genes_randomly_selected_%d.txt\"%(n+1),list_rng,fmt=\"%s\")\n",
    "        np.savetxt(f\"genes_with_similar_expression/genes_randomly_selected_init_%d.txt\"%(n+1),list_rng0,fmt=\"%s\")\n",
    "        np.savetxt(f\"genes_with_similar_expression/denovo_genes_randomly_selected_%d.txt\"%(n+1),list_dng,fmt=\"%s\")"
   ]
  },
  {
   "cell_type": "code",
   "execution_count": null,
   "id": "e58605be",
   "metadata": {},
   "outputs": [],
   "source": [
    "df_combined = df_lambda.merge(df_ef_dmel_high, on='gene', how='left')"
   ]
  },
  {
   "cell_type": "code",
   "execution_count": 113,
   "id": "0d2455a8",
   "metadata": {},
   "outputs": [
    {
     "name": "stdout",
     "output_type": "stream",
     "text": [
      "up:229\n",
      "others:7953\n",
      "step 0 iter 0 3.18158567774936\n",
      "step 0 iter 495 1.608695652173913\n",
      "step 1 iter 0 3.6000000000000005\n",
      "step 1 iter 494 2.8021390374331556\n",
      "step 2 iter 0 3.3333333333333335\n",
      "step 2 iter 493 2.588235294117647\n",
      "step 3 iter 0 2.8888888888888897\n",
      "step 3 iter 440 1.1111111111111114\n",
      "step 4 iter 0 3.12087912087912\n",
      "step 4 iter 493 1.9285714285714284\n",
      "step 5 iter 0 3.0769230769230766\n",
      "step 5 iter 439 2.1960784313725488\n",
      "step 6 iter 0 3.0588235294117645\n",
      "step 6 iter 415 2.253968253968254\n",
      "step 7 iter 0 3.652173913043478\n",
      "step 7 iter 420 2.2937062937062933\n",
      "step 8 iter 0 3.666666666666666\n",
      "step 8 iter 351 1.6666666666666665\n",
      "step 9 iter 0 3.333333333333334\n",
      "step 9 iter 477 2.3555555555555556\n",
      "step 10 iter 0 3.178571428571429\n",
      "step 10 iter 468 1.9500000000000002\n",
      "step 11 iter 0 3.5238095238095233\n",
      "step 11 iter 456 1.766233766233766\n",
      "step 12 iter 0 3.2857142857142865\n",
      "step 12 iter 496 2.2368421052631575\n",
      "step 13 iter 0 4.000000000000001\n",
      "step 13 iter 492 1.688888888888889\n",
      "step 14 iter 0 3.428571428571429\n",
      "step 14 iter 390 3.0476190476190474\n",
      "step 15 iter 0 3.7333333333333325\n",
      "step 15 iter 436 2.4666666666666663\n",
      "step 16 iter 0 3.4\n",
      "step 16 iter 497 1.6666666666666665\n",
      "step 17 iter 0 3.666666666666666\n",
      "step 17 iter 455 1.8412698412698414\n",
      "step 18 iter 0 2.4\n",
      "step 18 iter 444 0.7999999999999999\n",
      "step 19 iter 0 3.4833333333333334\n",
      "step 19 iter 494 1.666666666666667\n",
      "step 20 iter 0 3.1333333333333333\n",
      "step 20 iter 441 2.0\n",
      "step 21 iter 0 3.0666666666666673\n",
      "step 21 iter 488 2.083333333333334\n",
      "step 22 iter 0 3.692307692307692\n",
      "step 22 iter 313 2.9090909090909087\n",
      "step 23 iter 0 3.571428571428571\n",
      "step 23 iter 427 2.1333333333333333\n",
      "step 24 iter 0 3.1999999999999997\n",
      "step 24 iter 480 1.3538461538461537\n",
      "step 25 iter 0 3.8095238095238098\n",
      "step 25 iter 479 2.2666666666666666\n",
      "step 26 iter 0 3.703703703703703\n",
      "step 26 iter 6 3.538461538461539\n",
      "step 27 iter 0 3.6260869565217386\n",
      "step 27 iter 460 2.509316770186335\n",
      "step 28 iter 0 3.0857142857142863\n",
      "step 28 iter 491 1.314285714285714\n",
      "step 29 iter 0 3.478260869565217\n",
      "step 29 iter 458 1.717948717948718\n"
     ]
    }
   ],
   "source": [
    "simulated_annealing(df_combined)"
   ]
  },
  {
   "cell_type": "code",
   "execution_count": null,
   "id": "7d31f3af",
   "metadata": {},
   "outputs": [
    {
     "data": {
      "image/png": "[encoded data removed]",
      "text/plain": [
       "<Figure size 200x200 with 1 Axes>"
      ]
     },
     "metadata": {},
     "output_type": "display_data"
    }
   ],
   "source": [
    "custom_palette = [ \"#DC0000FF\", \"#91D1C2FF\"]\n",
    "\n",
    "data = []\n",
    "i = 1\n",
    "while os.path.exists(f\"genes_with_similar_expression/genes_randomly_selected_{i}.txt\"):\n",
    "    genes_sample = pd.read_csv(f'genes_with_similar_expression/genes_randomly_selected_{i}.txt', header=None)\n",
    "    genes_denovo_sample = pd.read_csv(f'genes_with_similar_expression/denovo_genes_randomly_selected_{i}.txt', header=None)\n",
    "\n",
    "    up_gene = df_combined[(df_combined['gene_group'] == 'up')]\n",
    "    other_gene = df_combined[(df_combined['gene_group'] == 'others')]\n",
    "\n",
    "    other_sample = other_gene.merge(genes_sample, left_on=f'gene', right_on=0, how='right')['lambda']\n",
    "    up_sample = up_gene.merge(genes_denovo_sample, left_on=f'gene', right_on=0, how='right')['lambda']\n",
    "    data.append({\n",
    "            'gene_group': 'Upregulated',\n",
    "            'lambda': up_sample.mean()\n",
    "        })\n",
    "    data.append({\n",
    "        'gene_group': 'Other',\n",
    "        'lambda': other_sample.mean()\n",
    "    })\n",
    "    i += 1\n",
    "\n",
    "data_df = pd.DataFrame(data)\n",
    "\n",
    "plt.figure(figsize=(2, 2))\n",
    "\n",
    "ax = sns.boxplot(data=data_df, x='gene_group', y='lambda', hue='gene_group', palette=custom_palette, linewidth=0.5, flierprops={'markersize': 1})\n",
    "\n",
    "plt.xlabel('')\n",
    "plt.ylabel('Lambda', size=8)\n",
    "plt.title('Pagel\\'s lambda', size=8)\n",
    "#plt.legend(title='Group')\n",
    "ax.tick_params(axis='both', which='both', direction='out', length=3, width=1, labelsize=7)\n",
    "#sns.move_legend(ax, \"upper left\", bbox_to_anchor=(1.1, 1), title=\"Group\", fontsize=7, title_fontsize=8, markerscale=0.8, \n",
    "#                frameon=False)\n",
    "\n",
    "sns.despine()\n",
    "#plt.savefig(\"pagels_lambda_boxplot_ef.svg\", dpi=300)"
   ]
  },
  {
   "cell_type": "code",
   "execution_count": null,
   "id": "e3c1dc42",
   "metadata": {},
   "outputs": [
    {
     "name": "stdout",
     "output_type": "stream",
     "text": [
      "Mann-Whitney U statistic: 609500.50, p-value: 1.85e-18\n"
     ]
    }
   ],
   "source": [
    "from scipy.stats import mannwhitneyu\n",
    "\n",
    "# get lambda values for each group\n",
    "group1 = up_gene['lambda'].dropna()\n",
    "group2 = other_gene['lambda'].dropna()\n",
    "\n",
    "# Mann-Whitney U test\n",
    "stat, p = mannwhitneyu(group1, group2, alternative='less')\n",
    "print(f\"Mann-Whitney U statistic: {stat:.2f}, p-value: {p:.3g}\")"
   ]
  }
 ],
 "metadata": {
  "kernelspec": {
   "display_name": "research_py39",
   "language": "python",
   "name": "python3"
  },
  "language_info": {
   "codemirror_mode": {
    "name": "ipython",
    "version": 3
   },
   "file_extension": ".py",
   "mimetype": "text/x-python",
   "name": "python",
   "nbconvert_exporter": "python",
   "pygments_lexer": "ipython3",
   "version": "3.9.21"
  }
 },
 "nbformat": 4,
 "nbformat_minor": 5
}
