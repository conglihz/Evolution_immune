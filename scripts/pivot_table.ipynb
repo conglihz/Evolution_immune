{
 "cells": [
  {
   "cell_type": "code",
   "execution_count": 3,
   "id": "85a84187",
   "metadata": {},
   "outputs": [],
   "source": [
    "import pandas as pd\n",
    "import numpy as np\n",
    "import matplotlib.pyplot as plt\n",
    "import seaborn as sns"
   ]
  },
  {
   "cell_type": "code",
   "execution_count": null,
   "id": "46257ec7",
   "metadata": {},
   "outputs": [],
   "source": [
    "# Load data\n",
    "df = pd.read_csv('combined_res_singlecopy_ef.txt', sep = '\\t')\n",
    "df = df.dropna(subset=['log2FoldChange'])"
   ]
  },
  {
   "cell_type": "code",
   "execution_count": 23,
   "id": "45f9e7b4",
   "metadata": {},
   "outputs": [],
   "source": [
    "pivot_df = df.pivot_table(index='gene', columns='species', values='log2FoldChange')\n",
    "pivot_df = pivot_df.dropna()\n",
    "pivot_df = pivot_df.reset_index()\n",
    "pivot_df = pivot_df.rename_axis(None, axis=1)  # Remove the index name"
   ]
  },
  {
   "cell_type": "code",
   "execution_count": 164,
   "id": "44e56158",
   "metadata": {},
   "outputs": [],
   "source": [
    "pivot_df.to_csv('pivot_df_pr0708.csv', index=False)"
   ]
  }
 ],
 "metadata": {
  "kernelspec": {
   "display_name": "research_py39",
   "language": "python",
   "name": "python3"
  },
  "language_info": {
   "codemirror_mode": {
    "name": "ipython",
    "version": 3
   },
   "file_extension": ".py",
   "mimetype": "text/x-python",
   "name": "python",
   "nbconvert_exporter": "python",
   "pygments_lexer": "ipython3",
   "version": "3.9.21"
  }
 },
 "nbformat": 4,
 "nbformat_minor": 5
}
